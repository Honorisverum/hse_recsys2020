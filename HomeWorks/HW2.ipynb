{
  "nbformat": 4,
  "nbformat_minor": 0,
  "metadata": {
    "colab": {
      "name": "RecSys2.ipynb",
      "provenance": []
    },
    "kernelspec": {
      "name": "python3",
      "display_name": "Python 3"
    },
    "accelerator": "GPU"
  },
  "cells": [
    {
      "cell_type": "markdown",
      "metadata": {
        "id": "-kxFdNrwFp8O"
      },
      "source": [
        "## Download data and install libraries"
      ]
    },
    {
      "cell_type": "code",
      "metadata": {
        "id": "bf0HAXHzElUk"
      },
      "source": [
        "import os\n",
        "!mkdir '/root/.kaggle'\n",
        "os.chdir('/root/.kaggle')\n",
        "![ -e kaggle.json ] && rm kaggle.json\n",
        "!echo \"{\\\"username\\\":\\\"honorisverum\\\",\\\"key\\\":\\\"1b763b7e5cdd751f5a7d53eaf02dd887\\\"}\" >> kaggle.json\n",
        "!chmod 600 ./kaggle.json\n",
        "os.chdir('/content/')"
      ],
      "execution_count": 1,
      "outputs": []
    },
    {
      "cell_type": "code",
      "metadata": {
        "id": "1rhv0g9BFFvb",
        "outputId": "ee3b7faf-b140-49d9-8753-05e2009cc267",
        "colab": {
          "base_uri": "https://localhost:8080/"
        }
      },
      "source": [
        "!pip install kaggle --upgrade"
      ],
      "execution_count": 2,
      "outputs": [
        {
          "output_type": "stream",
          "text": [
            "Requirement already up-to-date: kaggle in /usr/local/lib/python3.6/dist-packages (1.5.9)\n",
            "Requirement already satisfied, skipping upgrade: slugify in /usr/local/lib/python3.6/dist-packages (from kaggle) (0.0.1)\n",
            "Requirement already satisfied, skipping upgrade: certifi in /usr/local/lib/python3.6/dist-packages (from kaggle) (2020.6.20)\n",
            "Requirement already satisfied, skipping upgrade: tqdm in /usr/local/lib/python3.6/dist-packages (from kaggle) (4.41.1)\n",
            "Requirement already satisfied, skipping upgrade: urllib3 in /usr/local/lib/python3.6/dist-packages (from kaggle) (1.24.3)\n",
            "Requirement already satisfied, skipping upgrade: python-dateutil in /usr/local/lib/python3.6/dist-packages (from kaggle) (2.8.1)\n",
            "Requirement already satisfied, skipping upgrade: python-slugify in /usr/local/lib/python3.6/dist-packages (from kaggle) (4.0.1)\n",
            "Requirement already satisfied, skipping upgrade: requests in /usr/local/lib/python3.6/dist-packages (from kaggle) (2.23.0)\n",
            "Requirement already satisfied, skipping upgrade: six>=1.10 in /usr/local/lib/python3.6/dist-packages (from kaggle) (1.15.0)\n",
            "Requirement already satisfied, skipping upgrade: text-unidecode>=1.3 in /usr/local/lib/python3.6/dist-packages (from python-slugify->kaggle) (1.3)\n",
            "Requirement already satisfied, skipping upgrade: chardet<4,>=3.0.2 in /usr/local/lib/python3.6/dist-packages (from requests->kaggle) (3.0.4)\n",
            "Requirement already satisfied, skipping upgrade: idna<3,>=2.5 in /usr/local/lib/python3.6/dist-packages (from requests->kaggle) (2.10)\n"
          ],
          "name": "stdout"
        }
      ]
    },
    {
      "cell_type": "code",
      "metadata": {
        "id": "v5XHdov0EW0O",
        "outputId": "f8e15ec1-b267-4493-f0e5-310efc816659",
        "colab": {
          "base_uri": "https://localhost:8080/"
        }
      },
      "source": [
        "!kaggle competitions download -c kkbox-music-recommendation-challenge"
      ],
      "execution_count": 3,
      "outputs": [
        {
          "output_type": "stream",
          "text": [
            "Warning: Looks like you're using an outdated API Version, please consider updating (server 1.5.9 / client 1.5.4)\n",
            "Downloading test.csv.7z to /content\n",
            " 79% 33.0M/41.9M [00:00<00:00, 34.8MB/s]\n",
            "100% 41.9M/41.9M [00:00<00:00, 61.3MB/s]\n",
            "Downloading song_extra_info.csv.7z to /content\n",
            " 98% 97.0M/98.8M [00:00<00:00, 83.6MB/s]\n",
            "100% 98.8M/98.8M [00:00<00:00, 111MB/s] \n",
            "Downloading songs.csv.7z to /content\n",
            " 80% 81.0M/101M [00:01<00:00, 75.8MB/s]\n",
            "100% 101M/101M [00:01<00:00, 86.9MB/s] \n",
            "Downloading sample_submission.csv.7z to /content\n",
            "  0% 0.00/453k [00:00<?, ?B/s]\n",
            "100% 453k/453k [00:00<00:00, 149MB/s]\n",
            "Downloading members.csv.7z to /content\n",
            "  0% 0.00/1.29M [00:00<?, ?B/s]\n",
            "100% 1.29M/1.29M [00:00<00:00, 186MB/s]\n",
            "Downloading train.csv.7z to /content\n",
            " 96% 97.0M/101M [00:03<00:00, 45.3MB/s]\n",
            "100% 101M/101M [00:03<00:00, 33.0MB/s] \n"
          ],
          "name": "stdout"
        }
      ]
    },
    {
      "cell_type": "code",
      "metadata": {
        "id": "6866-1lFHcG3"
      },
      "source": [
        "!7z x members.csv.7z\n",
        "!7z x sample_submission.csv.7z\n",
        "!7z x song_extra_info.csv.7z\n",
        "!7z x songs.csv.7z\n",
        "!7z x test.csv.7z\n",
        "!7z x train.csv.7z"
      ],
      "execution_count": null,
      "outputs": []
    },
    {
      "cell_type": "code",
      "metadata": {
        "id": "7XK3tQwpH8af"
      },
      "source": [
        "!rm *.7z"
      ],
      "execution_count": 5,
      "outputs": []
    },
    {
      "cell_type": "code",
      "metadata": {
        "id": "cCp5c_pkFDa_"
      },
      "source": [
        "!pip install catboost"
      ],
      "execution_count": null,
      "outputs": []
    },
    {
      "cell_type": "code",
      "metadata": {
        "id": "d54ruHoPFtXa"
      },
      "source": [
        "import copy\n",
        "from collections import defaultdict\n",
        "import random\n",
        "import catboost\n",
        "import xgboost\n",
        "from itertools import combinations\n",
        "import numpy as np\n",
        "from tqdm.notebook import tqdm\n",
        "import pandas as pd\n",
        "import sklearn\n",
        "from sklearn.preprocessing import LabelEncoder\n",
        "from sklearn.model_selection import KFold"
      ],
      "execution_count": 67,
      "outputs": []
    },
    {
      "cell_type": "markdown",
      "metadata": {
        "id": "vO9FSeM19Wfj"
      },
      "source": [
        "## About data"
      ]
    },
    {
      "cell_type": "code",
      "metadata": {
        "id": "Q8XtBTeO9YoQ",
        "outputId": "d123be94-5008-4787-dd26-244a9946a673",
        "colab": {
          "base_uri": "https://localhost:8080/",
          "height": 204
        }
      },
      "source": [
        "pd.read_csv('./train.csv')[:5]"
      ],
      "execution_count": 3,
      "outputs": [
        {
          "output_type": "execute_result",
          "data": {
            "text/html": [
              "<div>\n",
              "<style scoped>\n",
              "    .dataframe tbody tr th:only-of-type {\n",
              "        vertical-align: middle;\n",
              "    }\n",
              "\n",
              "    .dataframe tbody tr th {\n",
              "        vertical-align: top;\n",
              "    }\n",
              "\n",
              "    .dataframe thead th {\n",
              "        text-align: right;\n",
              "    }\n",
              "</style>\n",
              "<table border=\"1\" class=\"dataframe\">\n",
              "  <thead>\n",
              "    <tr style=\"text-align: right;\">\n",
              "      <th></th>\n",
              "      <th>msno</th>\n",
              "      <th>song_id</th>\n",
              "      <th>source_system_tab</th>\n",
              "      <th>source_screen_name</th>\n",
              "      <th>source_type</th>\n",
              "      <th>target</th>\n",
              "    </tr>\n",
              "  </thead>\n",
              "  <tbody>\n",
              "    <tr>\n",
              "      <th>0</th>\n",
              "      <td>FGtllVqz18RPiwJj/edr2gV78zirAiY/9SmYvia+kCg=</td>\n",
              "      <td>BBzumQNXUHKdEBOB7mAJuzok+IJA1c2Ryg/yzTF6tik=</td>\n",
              "      <td>explore</td>\n",
              "      <td>Explore</td>\n",
              "      <td>online-playlist</td>\n",
              "      <td>1</td>\n",
              "    </tr>\n",
              "    <tr>\n",
              "      <th>1</th>\n",
              "      <td>Xumu+NIjS6QYVxDS4/t3SawvJ7viT9hPKXmf0RtLNx8=</td>\n",
              "      <td>bhp/MpSNoqoxOIB+/l8WPqu6jldth4DIpCm3ayXnJqM=</td>\n",
              "      <td>my library</td>\n",
              "      <td>Local playlist more</td>\n",
              "      <td>local-playlist</td>\n",
              "      <td>1</td>\n",
              "    </tr>\n",
              "    <tr>\n",
              "      <th>2</th>\n",
              "      <td>Xumu+NIjS6QYVxDS4/t3SawvJ7viT9hPKXmf0RtLNx8=</td>\n",
              "      <td>JNWfrrC7zNN7BdMpsISKa4Mw+xVJYNnxXh3/Epw7QgY=</td>\n",
              "      <td>my library</td>\n",
              "      <td>Local playlist more</td>\n",
              "      <td>local-playlist</td>\n",
              "      <td>1</td>\n",
              "    </tr>\n",
              "    <tr>\n",
              "      <th>3</th>\n",
              "      <td>Xumu+NIjS6QYVxDS4/t3SawvJ7viT9hPKXmf0RtLNx8=</td>\n",
              "      <td>2A87tzfnJTSWqD7gIZHisolhe4DMdzkbd6LzO1KHjNs=</td>\n",
              "      <td>my library</td>\n",
              "      <td>Local playlist more</td>\n",
              "      <td>local-playlist</td>\n",
              "      <td>1</td>\n",
              "    </tr>\n",
              "    <tr>\n",
              "      <th>4</th>\n",
              "      <td>FGtllVqz18RPiwJj/edr2gV78zirAiY/9SmYvia+kCg=</td>\n",
              "      <td>3qm6XTZ6MOCU11x8FIVbAGH5l5uMkT3/ZalWG1oo2Gc=</td>\n",
              "      <td>explore</td>\n",
              "      <td>Explore</td>\n",
              "      <td>online-playlist</td>\n",
              "      <td>1</td>\n",
              "    </tr>\n",
              "  </tbody>\n",
              "</table>\n",
              "</div>"
            ],
            "text/plain": [
              "                                           msno  ... target\n",
              "0  FGtllVqz18RPiwJj/edr2gV78zirAiY/9SmYvia+kCg=  ...      1\n",
              "1  Xumu+NIjS6QYVxDS4/t3SawvJ7viT9hPKXmf0RtLNx8=  ...      1\n",
              "2  Xumu+NIjS6QYVxDS4/t3SawvJ7viT9hPKXmf0RtLNx8=  ...      1\n",
              "3  Xumu+NIjS6QYVxDS4/t3SawvJ7viT9hPKXmf0RtLNx8=  ...      1\n",
              "4  FGtllVqz18RPiwJj/edr2gV78zirAiY/9SmYvia+kCg=  ...      1\n",
              "\n",
              "[5 rows x 6 columns]"
            ]
          },
          "metadata": {
            "tags": []
          },
          "execution_count": 3
        }
      ]
    },
    {
      "cell_type": "code",
      "metadata": {
        "id": "lQfYH4UF89W_",
        "outputId": "877effea-8d55-447d-f61b-f5ab9248e724",
        "colab": {
          "base_uri": "https://localhost:8080/",
          "height": 204
        }
      },
      "source": [
        "pd.read_csv('./songs.csv')[:5]"
      ],
      "execution_count": 4,
      "outputs": [
        {
          "output_type": "execute_result",
          "data": {
            "text/html": [
              "<div>\n",
              "<style scoped>\n",
              "    .dataframe tbody tr th:only-of-type {\n",
              "        vertical-align: middle;\n",
              "    }\n",
              "\n",
              "    .dataframe tbody tr th {\n",
              "        vertical-align: top;\n",
              "    }\n",
              "\n",
              "    .dataframe thead th {\n",
              "        text-align: right;\n",
              "    }\n",
              "</style>\n",
              "<table border=\"1\" class=\"dataframe\">\n",
              "  <thead>\n",
              "    <tr style=\"text-align: right;\">\n",
              "      <th></th>\n",
              "      <th>song_id</th>\n",
              "      <th>song_length</th>\n",
              "      <th>genre_ids</th>\n",
              "      <th>artist_name</th>\n",
              "      <th>composer</th>\n",
              "      <th>lyricist</th>\n",
              "      <th>language</th>\n",
              "    </tr>\n",
              "  </thead>\n",
              "  <tbody>\n",
              "    <tr>\n",
              "      <th>0</th>\n",
              "      <td>CXoTN1eb7AI+DntdU1vbcwGRV4SCIDxZu+YD8JP8r4E=</td>\n",
              "      <td>247640</td>\n",
              "      <td>465</td>\n",
              "      <td>張信哲 (Jeff Chang)</td>\n",
              "      <td>董貞</td>\n",
              "      <td>何啟弘</td>\n",
              "      <td>3.0</td>\n",
              "    </tr>\n",
              "    <tr>\n",
              "      <th>1</th>\n",
              "      <td>o0kFgae9QtnYgRkVPqLJwa05zIhRlUjfF7O1tDw0ZDU=</td>\n",
              "      <td>197328</td>\n",
              "      <td>444</td>\n",
              "      <td>BLACKPINK</td>\n",
              "      <td>TEDDY|  FUTURE BOUNCE|  Bekuh BOOM</td>\n",
              "      <td>TEDDY</td>\n",
              "      <td>31.0</td>\n",
              "    </tr>\n",
              "    <tr>\n",
              "      <th>2</th>\n",
              "      <td>DwVvVurfpuz+XPuFvucclVQEyPqcpUkHR0ne1RQzPs0=</td>\n",
              "      <td>231781</td>\n",
              "      <td>465</td>\n",
              "      <td>SUPER JUNIOR</td>\n",
              "      <td>NaN</td>\n",
              "      <td>NaN</td>\n",
              "      <td>31.0</td>\n",
              "    </tr>\n",
              "    <tr>\n",
              "      <th>3</th>\n",
              "      <td>dKMBWoZyScdxSkihKG+Vf47nc18N9q4m58+b4e7dSSE=</td>\n",
              "      <td>273554</td>\n",
              "      <td>465</td>\n",
              "      <td>S.H.E</td>\n",
              "      <td>湯小康</td>\n",
              "      <td>徐世珍</td>\n",
              "      <td>3.0</td>\n",
              "    </tr>\n",
              "    <tr>\n",
              "      <th>4</th>\n",
              "      <td>W3bqWd3T+VeHFzHAUfARgW9AvVRaF4N5Yzm4Mr6Eo/o=</td>\n",
              "      <td>140329</td>\n",
              "      <td>726</td>\n",
              "      <td>貴族精選</td>\n",
              "      <td>Traditional</td>\n",
              "      <td>Traditional</td>\n",
              "      <td>52.0</td>\n",
              "    </tr>\n",
              "  </tbody>\n",
              "</table>\n",
              "</div>"
            ],
            "text/plain": [
              "                                        song_id  ...  language\n",
              "0  CXoTN1eb7AI+DntdU1vbcwGRV4SCIDxZu+YD8JP8r4E=  ...       3.0\n",
              "1  o0kFgae9QtnYgRkVPqLJwa05zIhRlUjfF7O1tDw0ZDU=  ...      31.0\n",
              "2  DwVvVurfpuz+XPuFvucclVQEyPqcpUkHR0ne1RQzPs0=  ...      31.0\n",
              "3  dKMBWoZyScdxSkihKG+Vf47nc18N9q4m58+b4e7dSSE=  ...       3.0\n",
              "4  W3bqWd3T+VeHFzHAUfARgW9AvVRaF4N5Yzm4Mr6Eo/o=  ...      52.0\n",
              "\n",
              "[5 rows x 7 columns]"
            ]
          },
          "metadata": {
            "tags": []
          },
          "execution_count": 4
        }
      ]
    },
    {
      "cell_type": "code",
      "metadata": {
        "id": "neKo6xJX9JVF",
        "outputId": "cadcade4-5a11-46d8-e1ba-bf59676d63c0",
        "colab": {
          "base_uri": "https://localhost:8080/",
          "height": 204
        }
      },
      "source": [
        "pd.read_csv('./members.csv')[:5]"
      ],
      "execution_count": 5,
      "outputs": [
        {
          "output_type": "execute_result",
          "data": {
            "text/html": [
              "<div>\n",
              "<style scoped>\n",
              "    .dataframe tbody tr th:only-of-type {\n",
              "        vertical-align: middle;\n",
              "    }\n",
              "\n",
              "    .dataframe tbody tr th {\n",
              "        vertical-align: top;\n",
              "    }\n",
              "\n",
              "    .dataframe thead th {\n",
              "        text-align: right;\n",
              "    }\n",
              "</style>\n",
              "<table border=\"1\" class=\"dataframe\">\n",
              "  <thead>\n",
              "    <tr style=\"text-align: right;\">\n",
              "      <th></th>\n",
              "      <th>msno</th>\n",
              "      <th>city</th>\n",
              "      <th>bd</th>\n",
              "      <th>gender</th>\n",
              "      <th>registered_via</th>\n",
              "      <th>registration_init_time</th>\n",
              "      <th>expiration_date</th>\n",
              "    </tr>\n",
              "  </thead>\n",
              "  <tbody>\n",
              "    <tr>\n",
              "      <th>0</th>\n",
              "      <td>XQxgAYj3klVKjR3oxPPXYYFp4soD4TuBghkhMTD4oTw=</td>\n",
              "      <td>1</td>\n",
              "      <td>0</td>\n",
              "      <td>NaN</td>\n",
              "      <td>7</td>\n",
              "      <td>20110820</td>\n",
              "      <td>20170920</td>\n",
              "    </tr>\n",
              "    <tr>\n",
              "      <th>1</th>\n",
              "      <td>UizsfmJb9mV54qE9hCYyU07Va97c0lCRLEQX3ae+ztM=</td>\n",
              "      <td>1</td>\n",
              "      <td>0</td>\n",
              "      <td>NaN</td>\n",
              "      <td>7</td>\n",
              "      <td>20150628</td>\n",
              "      <td>20170622</td>\n",
              "    </tr>\n",
              "    <tr>\n",
              "      <th>2</th>\n",
              "      <td>D8nEhsIOBSoE6VthTaqDX8U6lqjJ7dLdr72mOyLya2A=</td>\n",
              "      <td>1</td>\n",
              "      <td>0</td>\n",
              "      <td>NaN</td>\n",
              "      <td>4</td>\n",
              "      <td>20160411</td>\n",
              "      <td>20170712</td>\n",
              "    </tr>\n",
              "    <tr>\n",
              "      <th>3</th>\n",
              "      <td>mCuD+tZ1hERA/o5GPqk38e041J8ZsBaLcu7nGoIIvhI=</td>\n",
              "      <td>1</td>\n",
              "      <td>0</td>\n",
              "      <td>NaN</td>\n",
              "      <td>9</td>\n",
              "      <td>20150906</td>\n",
              "      <td>20150907</td>\n",
              "    </tr>\n",
              "    <tr>\n",
              "      <th>4</th>\n",
              "      <td>q4HRBfVSssAFS9iRfxWrohxuk9kCYMKjHOEagUMV6rQ=</td>\n",
              "      <td>1</td>\n",
              "      <td>0</td>\n",
              "      <td>NaN</td>\n",
              "      <td>4</td>\n",
              "      <td>20170126</td>\n",
              "      <td>20170613</td>\n",
              "    </tr>\n",
              "  </tbody>\n",
              "</table>\n",
              "</div>"
            ],
            "text/plain": [
              "                                           msno  ...  expiration_date\n",
              "0  XQxgAYj3klVKjR3oxPPXYYFp4soD4TuBghkhMTD4oTw=  ...         20170920\n",
              "1  UizsfmJb9mV54qE9hCYyU07Va97c0lCRLEQX3ae+ztM=  ...         20170622\n",
              "2  D8nEhsIOBSoE6VthTaqDX8U6lqjJ7dLdr72mOyLya2A=  ...         20170712\n",
              "3  mCuD+tZ1hERA/o5GPqk38e041J8ZsBaLcu7nGoIIvhI=  ...         20150907\n",
              "4  q4HRBfVSssAFS9iRfxWrohxuk9kCYMKjHOEagUMV6rQ=  ...         20170613\n",
              "\n",
              "[5 rows x 7 columns]"
            ]
          },
          "metadata": {
            "tags": []
          },
          "execution_count": 5
        }
      ]
    },
    {
      "cell_type": "markdown",
      "metadata": {
        "id": "yz5UHHkE9MuE"
      },
      "source": [
        "## Data preparation"
      ]
    },
    {
      "cell_type": "code",
      "metadata": {
        "id": "NhM9MWj8JtA5"
      },
      "source": [
        "train_data = pd.read_csv('./train.csv')\n",
        "user_data = pd.read_csv('./members.csv', parse_dates=['expiration_date', 'registration_init_time'])\n",
        "item_data = pd.read_csv('./songs.csv')\n",
        "\n",
        "train_data = train_data.merge(item_data, on='song_id', how='left')\n",
        "train_data = train_data.merge(user_data, on='msno', how='left')"
      ],
      "execution_count": 6,
      "outputs": []
    },
    {
      "cell_type": "code",
      "metadata": {
        "id": "DHKkl1QxODZv"
      },
      "source": [
        "label_encoder = sklearn.preprocessing.LabelEncoder()\n",
        "\n",
        "for col in ['msno', 'song_id', 'source_screen_name', \n",
        "            'source_system_tab', 'source_type', 'genre_ids', \n",
        "            'artist_name', 'composer', 'lyricist', 'gender']:\n",
        "    train_data[col] = label_encoder.fit_transform(train_data[col].fillna('nan'))\n",
        "    \n",
        "for col in ['language', 'city', 'registered_via']:\n",
        "    train_data[col] = label_encoder.fit_transform(train_data[col].fillna(-1))\n",
        "\n",
        "train_data['time'] = train_data.index / len(train_data)"
      ],
      "execution_count": 8,
      "outputs": []
    },
    {
      "cell_type": "code",
      "metadata": {
        "id": "jnfPDAPDOjjq",
        "outputId": "bade21fe-338d-49b9-d540-2e10b97bf461",
        "colab": {
          "base_uri": "https://localhost:8080/",
          "height": 224
        }
      },
      "source": [
        "train_data[:5]"
      ],
      "execution_count": 9,
      "outputs": [
        {
          "output_type": "execute_result",
          "data": {
            "text/html": [
              "<div>\n",
              "<style scoped>\n",
              "    .dataframe tbody tr th:only-of-type {\n",
              "        vertical-align: middle;\n",
              "    }\n",
              "\n",
              "    .dataframe tbody tr th {\n",
              "        vertical-align: top;\n",
              "    }\n",
              "\n",
              "    .dataframe thead th {\n",
              "        text-align: right;\n",
              "    }\n",
              "</style>\n",
              "<table border=\"1\" class=\"dataframe\">\n",
              "  <thead>\n",
              "    <tr style=\"text-align: right;\">\n",
              "      <th></th>\n",
              "      <th>msno</th>\n",
              "      <th>song_id</th>\n",
              "      <th>source_system_tab</th>\n",
              "      <th>source_screen_name</th>\n",
              "      <th>source_type</th>\n",
              "      <th>target</th>\n",
              "      <th>song_length</th>\n",
              "      <th>genre_ids</th>\n",
              "      <th>artist_name</th>\n",
              "      <th>composer</th>\n",
              "      <th>lyricist</th>\n",
              "      <th>language</th>\n",
              "      <th>city</th>\n",
              "      <th>bd</th>\n",
              "      <th>gender</th>\n",
              "      <th>registered_via</th>\n",
              "      <th>registration_init_time</th>\n",
              "      <th>expiration_date</th>\n",
              "      <th>time</th>\n",
              "    </tr>\n",
              "  </thead>\n",
              "  <tbody>\n",
              "    <tr>\n",
              "      <th>0</th>\n",
              "      <td>8158</td>\n",
              "      <td>74679</td>\n",
              "      <td>1</td>\n",
              "      <td>7</td>\n",
              "      <td>7</td>\n",
              "      <td>1</td>\n",
              "      <td>206471.0</td>\n",
              "      <td>285</td>\n",
              "      <td>3277</td>\n",
              "      <td>14581</td>\n",
              "      <td>22882</td>\n",
              "      <td>9</td>\n",
              "      <td>0</td>\n",
              "      <td>0</td>\n",
              "      <td>2</td>\n",
              "      <td>2</td>\n",
              "      <td>2012-01-02</td>\n",
              "      <td>2017-10-05</td>\n",
              "      <td>0.000000e+00</td>\n",
              "    </tr>\n",
              "    <tr>\n",
              "      <th>1</th>\n",
              "      <td>17259</td>\n",
              "      <td>223479</td>\n",
              "      <td>3</td>\n",
              "      <td>8</td>\n",
              "      <td>4</td>\n",
              "      <td>1</td>\n",
              "      <td>284584.0</td>\n",
              "      <td>90</td>\n",
              "      <td>31960</td>\n",
              "      <td>64876</td>\n",
              "      <td>22882</td>\n",
              "      <td>9</td>\n",
              "      <td>11</td>\n",
              "      <td>24</td>\n",
              "      <td>0</td>\n",
              "      <td>3</td>\n",
              "      <td>2011-05-25</td>\n",
              "      <td>2017-09-11</td>\n",
              "      <td>1.355488e-07</td>\n",
              "    </tr>\n",
              "    <tr>\n",
              "      <th>2</th>\n",
              "      <td>17259</td>\n",
              "      <td>120758</td>\n",
              "      <td>3</td>\n",
              "      <td>8</td>\n",
              "      <td>4</td>\n",
              "      <td>1</td>\n",
              "      <td>225396.0</td>\n",
              "      <td>90</td>\n",
              "      <td>21372</td>\n",
              "      <td>45057</td>\n",
              "      <td>22882</td>\n",
              "      <td>9</td>\n",
              "      <td>11</td>\n",
              "      <td>24</td>\n",
              "      <td>0</td>\n",
              "      <td>3</td>\n",
              "      <td>2011-05-25</td>\n",
              "      <td>2017-09-11</td>\n",
              "      <td>2.710976e-07</td>\n",
              "    </tr>\n",
              "    <tr>\n",
              "      <th>3</th>\n",
              "      <td>17259</td>\n",
              "      <td>23707</td>\n",
              "      <td>3</td>\n",
              "      <td>8</td>\n",
              "      <td>4</td>\n",
              "      <td>1</td>\n",
              "      <td>255512.0</td>\n",
              "      <td>6</td>\n",
              "      <td>27439</td>\n",
              "      <td>36700</td>\n",
              "      <td>22882</td>\n",
              "      <td>1</td>\n",
              "      <td>11</td>\n",
              "      <td>24</td>\n",
              "      <td>0</td>\n",
              "      <td>3</td>\n",
              "      <td>2011-05-25</td>\n",
              "      <td>2017-09-11</td>\n",
              "      <td>4.066463e-07</td>\n",
              "    </tr>\n",
              "    <tr>\n",
              "      <th>4</th>\n",
              "      <td>8158</td>\n",
              "      <td>33308</td>\n",
              "      <td>1</td>\n",
              "      <td>7</td>\n",
              "      <td>7</td>\n",
              "      <td>1</td>\n",
              "      <td>187802.0</td>\n",
              "      <td>2</td>\n",
              "      <td>4472</td>\n",
              "      <td>8485</td>\n",
              "      <td>22882</td>\n",
              "      <td>9</td>\n",
              "      <td>0</td>\n",
              "      <td>0</td>\n",
              "      <td>2</td>\n",
              "      <td>2</td>\n",
              "      <td>2012-01-02</td>\n",
              "      <td>2017-10-05</td>\n",
              "      <td>5.421951e-07</td>\n",
              "    </tr>\n",
              "  </tbody>\n",
              "</table>\n",
              "</div>"
            ],
            "text/plain": [
              "    msno  song_id  ...  expiration_date          time\n",
              "0   8158    74679  ...       2017-10-05  0.000000e+00\n",
              "1  17259   223479  ...       2017-09-11  1.355488e-07\n",
              "2  17259   120758  ...       2017-09-11  2.710976e-07\n",
              "3  17259    23707  ...       2017-09-11  4.066463e-07\n",
              "4   8158    33308  ...       2017-10-05  5.421951e-07\n",
              "\n",
              "[5 rows x 19 columns]"
            ]
          },
          "metadata": {
            "tags": []
          },
          "execution_count": 9
        }
      ]
    },
    {
      "cell_type": "code",
      "metadata": {
        "id": "-ShXG_SaOpdS",
        "outputId": "ce69135b-bec0-4fd9-f4e4-35dbc0ba9621",
        "colab": {
          "base_uri": "https://localhost:8080/"
        }
      },
      "source": [
        "len(train_data)"
      ],
      "execution_count": 10,
      "outputs": [
        {
          "output_type": "execute_result",
          "data": {
            "text/plain": [
              "7377418"
            ]
          },
          "metadata": {
            "tags": []
          },
          "execution_count": 10
        }
      ]
    },
    {
      "cell_type": "markdown",
      "metadata": {
        "id": "Vf3kEH6h_WTL"
      },
      "source": [
        "## Feature engineering"
      ]
    },
    {
      "cell_type": "code",
      "metadata": {
        "id": "lfe0w4y70s2C"
      },
      "source": [
        "def past_count(df, cols):\n",
        "    feature, cnt = [], defaultdict(lambda: 0)\n",
        "    for v in df[col].values:\n",
        "        cnt[v] += 0 if v not in cnt else 1\n",
        "        feature.append(cnt[v])\n",
        "    return feature\n",
        "\n",
        "def value_count(df, col):\n",
        "    vcnt_map = train_data[col].value_counts()\n",
        "    feature = df[col].map(vcnt_map).fillna(0)\n",
        "    return feature\n",
        "\n",
        "\n",
        "def future_count(df, col):\n",
        "    feature, df_reverse, cnt = \\\n",
        "        [], df.sort_index(ascending=False), defaultdict(lambda: 0)\n",
        "    for v in df_reverse[col].values:\n",
        "        feature.append(cnt[v] if v in cnt else 0)\n",
        "        if v in cnt: cnt[v] += 1 \n",
        "        else: cnt[v] = 1\n",
        "    feature.reverse()\n",
        "    return feature\n",
        "\n",
        "\n",
        "def diff_count(df, col):\n",
        "    last_time = df.groupby(df[col]).time.last()\n",
        "    feature = df[col].map(last_time) - df.time\n",
        "    return feature\n",
        "\n",
        "\n",
        "def nexthearing_count(df, col):\n",
        "    feature, df_reverse, nexthearing = [], df.sort_index(ascending=False), {}\n",
        "    for v, t in zip(df_reverse[col], df_reverse.time):\n",
        "        feature.append(t - nexthearing[v] if v in nexthearing else -1)\n",
        "        nexthearing[v] = t\n",
        "    feature.reverse()\n",
        "    return feature"
      ],
      "execution_count": 73,
      "outputs": []
    },
    {
      "cell_type": "code",
      "metadata": {
        "id": "oiwRMSWHOpf6"
      },
      "source": [
        "def make_features(df):\n",
        "\n",
        "    categorical_columns = [\n",
        "        'artist_name', 'city', 'composer', 'gender', 'genre_ids', 'language',\n",
        "        'lyricist', 'msno', 'registered_via', 'song_id', 'source_screen_name',\n",
        "        'source_system_tab', 'source_type', 'time',\n",
        "    ]\n",
        "\n",
        "    y = df.target\n",
        "    X = pd.DataFrame()\n",
        "\n",
        "    for col in categorical_columns:\n",
        "        for func in [past_count, value_count, count_from_future,\n",
        "                     diff_count, nexthearing_count]:\n",
        "            X[f\"{col}_{func.__name__}\"] = func(df, col)\n",
        "\n",
        "    for col in ['expiration_date', 'registration_init_time']:\n",
        "        X[col] = df[col].apply(lambda x: x.toordinal())\n",
        "    \n",
        "    for col in ['song_length', 'bd']:\n",
        "        X[col] = df[col]\n",
        "    \n",
        "    X['part_song_listened'] = df['song_length'] / X['msno_nexthearing_count']\n",
        "\n",
        "    return X, y"
      ],
      "execution_count": 74,
      "outputs": []
    },
    {
      "cell_type": "code",
      "metadata": {
        "id": "mZb91ivIYGB1"
      },
      "source": [
        "# check on small dev subset\n",
        "\n",
        "develop = train_data[:1000]\n",
        "dev_X, dev_y = make_features(develop)"
      ],
      "execution_count": 75,
      "outputs": []
    },
    {
      "cell_type": "code",
      "metadata": {
        "id": "rmNqYOXlYRLk",
        "outputId": "150076f0-e523-43ee-dea7-de42500bb708",
        "colab": {
          "base_uri": "https://localhost:8080/",
          "height": 224
        }
      },
      "source": [
        "dev_X[:5]"
      ],
      "execution_count": 76,
      "outputs": [
        {
          "output_type": "execute_result",
          "data": {
            "text/html": [
              "<div>\n",
              "<style scoped>\n",
              "    .dataframe tbody tr th:only-of-type {\n",
              "        vertical-align: middle;\n",
              "    }\n",
              "\n",
              "    .dataframe tbody tr th {\n",
              "        vertical-align: top;\n",
              "    }\n",
              "\n",
              "    .dataframe thead th {\n",
              "        text-align: right;\n",
              "    }\n",
              "</style>\n",
              "<table border=\"1\" class=\"dataframe\">\n",
              "  <thead>\n",
              "    <tr style=\"text-align: right;\">\n",
              "      <th></th>\n",
              "      <th>artist_name_past_count</th>\n",
              "      <th>artist_name_value_count</th>\n",
              "      <th>artist_name_count_from_future</th>\n",
              "      <th>artist_name_diff_count</th>\n",
              "      <th>artist_name_nexthearing_count</th>\n",
              "      <th>city_past_count</th>\n",
              "      <th>city_value_count</th>\n",
              "      <th>city_count_from_future</th>\n",
              "      <th>city_diff_count</th>\n",
              "      <th>city_nexthearing_count</th>\n",
              "      <th>composer_past_count</th>\n",
              "      <th>composer_value_count</th>\n",
              "      <th>composer_count_from_future</th>\n",
              "      <th>composer_diff_count</th>\n",
              "      <th>composer_nexthearing_count</th>\n",
              "      <th>gender_past_count</th>\n",
              "      <th>gender_value_count</th>\n",
              "      <th>gender_count_from_future</th>\n",
              "      <th>gender_diff_count</th>\n",
              "      <th>gender_nexthearing_count</th>\n",
              "      <th>genre_ids_past_count</th>\n",
              "      <th>genre_ids_value_count</th>\n",
              "      <th>genre_ids_count_from_future</th>\n",
              "      <th>genre_ids_diff_count</th>\n",
              "      <th>genre_ids_nexthearing_count</th>\n",
              "      <th>language_past_count</th>\n",
              "      <th>language_value_count</th>\n",
              "      <th>language_count_from_future</th>\n",
              "      <th>language_diff_count</th>\n",
              "      <th>language_nexthearing_count</th>\n",
              "      <th>lyricist_past_count</th>\n",
              "      <th>lyricist_value_count</th>\n",
              "      <th>lyricist_count_from_future</th>\n",
              "      <th>lyricist_diff_count</th>\n",
              "      <th>lyricist_nexthearing_count</th>\n",
              "      <th>msno_past_count</th>\n",
              "      <th>msno_value_count</th>\n",
              "      <th>msno_count_from_future</th>\n",
              "      <th>msno_diff_count</th>\n",
              "      <th>msno_nexthearing_count</th>\n",
              "      <th>registered_via_past_count</th>\n",
              "      <th>registered_via_value_count</th>\n",
              "      <th>registered_via_count_from_future</th>\n",
              "      <th>registered_via_diff_count</th>\n",
              "      <th>registered_via_nexthearing_count</th>\n",
              "      <th>song_id_past_count</th>\n",
              "      <th>song_id_value_count</th>\n",
              "      <th>song_id_count_from_future</th>\n",
              "      <th>song_id_diff_count</th>\n",
              "      <th>song_id_nexthearing_count</th>\n",
              "      <th>source_screen_name_past_count</th>\n",
              "      <th>source_screen_name_value_count</th>\n",
              "      <th>source_screen_name_count_from_future</th>\n",
              "      <th>source_screen_name_diff_count</th>\n",
              "      <th>source_screen_name_nexthearing_count</th>\n",
              "      <th>source_system_tab_past_count</th>\n",
              "      <th>source_system_tab_value_count</th>\n",
              "      <th>source_system_tab_count_from_future</th>\n",
              "      <th>source_system_tab_diff_count</th>\n",
              "      <th>source_system_tab_nexthearing_count</th>\n",
              "      <th>source_type_past_count</th>\n",
              "      <th>source_type_value_count</th>\n",
              "      <th>source_type_count_from_future</th>\n",
              "      <th>source_type_diff_count</th>\n",
              "      <th>source_type_nexthearing_count</th>\n",
              "      <th>time_past_count</th>\n",
              "      <th>time_value_count</th>\n",
              "      <th>time_count_from_future</th>\n",
              "      <th>time_diff_count</th>\n",
              "      <th>time_nexthearing_count</th>\n",
              "      <th>expiration_date</th>\n",
              "      <th>registration_init_time</th>\n",
              "      <th>song_length</th>\n",
              "      <th>bd</th>\n",
              "      <th>part_song_listened</th>\n",
              "    </tr>\n",
              "  </thead>\n",
              "  <tbody>\n",
              "    <tr>\n",
              "      <th>0</th>\n",
              "      <td>1</td>\n",
              "      <td>1140</td>\n",
              "      <td>2</td>\n",
              "      <td>0.000017</td>\n",
              "      <td>-0.000016</td>\n",
              "      <td>1</td>\n",
              "      <td>2621293</td>\n",
              "      <td>349</td>\n",
              "      <td>0.000135</td>\n",
              "      <td>-5.421951e-07</td>\n",
              "      <td>1</td>\n",
              "      <td>499</td>\n",
              "      <td>0</td>\n",
              "      <td>0.000000</td>\n",
              "      <td>-1.000000</td>\n",
              "      <td>1</td>\n",
              "      <td>2961479</td>\n",
              "      <td>380</td>\n",
              "      <td>0.000135</td>\n",
              "      <td>-5.421951e-07</td>\n",
              "      <td>1</td>\n",
              "      <td>109513</td>\n",
              "      <td>17</td>\n",
              "      <td>0.000134</td>\n",
              "      <td>-1.640140e-05</td>\n",
              "      <td>1</td>\n",
              "      <td>1864789</td>\n",
              "      <td>216</td>\n",
              "      <td>0.000134</td>\n",
              "      <td>-1.355488e-07</td>\n",
              "      <td>1</td>\n",
              "      <td>3178798</td>\n",
              "      <td>392</td>\n",
              "      <td>0.000135</td>\n",
              "      <td>-1.355488e-07</td>\n",
              "      <td>1</td>\n",
              "      <td>5511</td>\n",
              "      <td>3</td>\n",
              "      <td>9.488415e-07</td>\n",
              "      <td>-5.421951e-07</td>\n",
              "      <td>1</td>\n",
              "      <td>2551743</td>\n",
              "      <td>377</td>\n",
              "      <td>0.000135</td>\n",
              "      <td>-5.421951e-07</td>\n",
              "      <td>1</td>\n",
              "      <td>215</td>\n",
              "      <td>0</td>\n",
              "      <td>0.0</td>\n",
              "      <td>-1.0</td>\n",
              "      <td>1</td>\n",
              "      <td>72342</td>\n",
              "      <td>8</td>\n",
              "      <td>0.000120</td>\n",
              "      <td>-5.421951e-07</td>\n",
              "      <td>1</td>\n",
              "      <td>167949</td>\n",
              "      <td>11</td>\n",
              "      <td>0.000124</td>\n",
              "      <td>-5.421951e-07</td>\n",
              "      <td>1</td>\n",
              "      <td>1967924</td>\n",
              "      <td>123</td>\n",
              "      <td>0.000134</td>\n",
              "      <td>-5.421951e-07</td>\n",
              "      <td>1</td>\n",
              "      <td>1</td>\n",
              "      <td>0</td>\n",
              "      <td>0.0</td>\n",
              "      <td>-1</td>\n",
              "      <td>736607</td>\n",
              "      <td>734504</td>\n",
              "      <td>206471.0</td>\n",
              "      <td>0</td>\n",
              "      <td>-3.808057e+11</td>\n",
              "    </tr>\n",
              "    <tr>\n",
              "      <th>1</th>\n",
              "      <td>1</td>\n",
              "      <td>303616</td>\n",
              "      <td>40</td>\n",
              "      <td>0.000133</td>\n",
              "      <td>-0.000002</td>\n",
              "      <td>1</td>\n",
              "      <td>1144863</td>\n",
              "      <td>258</td>\n",
              "      <td>0.000134</td>\n",
              "      <td>-1.355488e-07</td>\n",
              "      <td>1</td>\n",
              "      <td>1675706</td>\n",
              "      <td>186</td>\n",
              "      <td>0.000134</td>\n",
              "      <td>-0.000003</td>\n",
              "      <td>1</td>\n",
              "      <td>2118316</td>\n",
              "      <td>387</td>\n",
              "      <td>0.000134</td>\n",
              "      <td>-1.355488e-07</td>\n",
              "      <td>1</td>\n",
              "      <td>181713</td>\n",
              "      <td>17</td>\n",
              "      <td>0.000099</td>\n",
              "      <td>-1.355488e-07</td>\n",
              "      <td>1</td>\n",
              "      <td>1864789</td>\n",
              "      <td>215</td>\n",
              "      <td>0.000134</td>\n",
              "      <td>-1.355488e-07</td>\n",
              "      <td>1</td>\n",
              "      <td>3178798</td>\n",
              "      <td>391</td>\n",
              "      <td>0.000134</td>\n",
              "      <td>-1.355488e-07</td>\n",
              "      <td>1</td>\n",
              "      <td>622</td>\n",
              "      <td>3</td>\n",
              "      <td>6.777439e-07</td>\n",
              "      <td>-1.355488e-07</td>\n",
              "      <td>1</td>\n",
              "      <td>2814535</td>\n",
              "      <td>335</td>\n",
              "      <td>0.000135</td>\n",
              "      <td>-1.355488e-07</td>\n",
              "      <td>1</td>\n",
              "      <td>1</td>\n",
              "      <td>0</td>\n",
              "      <td>0.0</td>\n",
              "      <td>-1.0</td>\n",
              "      <td>1</td>\n",
              "      <td>3228202</td>\n",
              "      <td>729</td>\n",
              "      <td>0.000135</td>\n",
              "      <td>-1.355488e-07</td>\n",
              "      <td>1</td>\n",
              "      <td>3684730</td>\n",
              "      <td>776</td>\n",
              "      <td>0.000135</td>\n",
              "      <td>-1.355488e-07</td>\n",
              "      <td>1</td>\n",
              "      <td>1079503</td>\n",
              "      <td>269</td>\n",
              "      <td>0.000134</td>\n",
              "      <td>-1.355488e-07</td>\n",
              "      <td>1</td>\n",
              "      <td>1</td>\n",
              "      <td>0</td>\n",
              "      <td>0.0</td>\n",
              "      <td>-1</td>\n",
              "      <td>736583</td>\n",
              "      <td>734282</td>\n",
              "      <td>284584.0</td>\n",
              "      <td>24</td>\n",
              "      <td>-2.099495e+12</td>\n",
              "    </tr>\n",
              "    <tr>\n",
              "      <th>2</th>\n",
              "      <td>1</td>\n",
              "      <td>289</td>\n",
              "      <td>0</td>\n",
              "      <td>0.000000</td>\n",
              "      <td>-1.000000</td>\n",
              "      <td>1</td>\n",
              "      <td>1144863</td>\n",
              "      <td>257</td>\n",
              "      <td>0.000134</td>\n",
              "      <td>-1.355488e-07</td>\n",
              "      <td>1</td>\n",
              "      <td>4</td>\n",
              "      <td>0</td>\n",
              "      <td>0.000000</td>\n",
              "      <td>-1.000000</td>\n",
              "      <td>1</td>\n",
              "      <td>2118316</td>\n",
              "      <td>386</td>\n",
              "      <td>0.000134</td>\n",
              "      <td>-1.355488e-07</td>\n",
              "      <td>1</td>\n",
              "      <td>181713</td>\n",
              "      <td>16</td>\n",
              "      <td>0.000099</td>\n",
              "      <td>-4.066463e-07</td>\n",
              "      <td>1</td>\n",
              "      <td>1864789</td>\n",
              "      <td>214</td>\n",
              "      <td>0.000134</td>\n",
              "      <td>-2.710976e-07</td>\n",
              "      <td>1</td>\n",
              "      <td>3178798</td>\n",
              "      <td>390</td>\n",
              "      <td>0.000134</td>\n",
              "      <td>-1.355488e-07</td>\n",
              "      <td>1</td>\n",
              "      <td>622</td>\n",
              "      <td>2</td>\n",
              "      <td>5.421951e-07</td>\n",
              "      <td>-1.355488e-07</td>\n",
              "      <td>1</td>\n",
              "      <td>2814535</td>\n",
              "      <td>334</td>\n",
              "      <td>0.000135</td>\n",
              "      <td>-1.355488e-07</td>\n",
              "      <td>1</td>\n",
              "      <td>4</td>\n",
              "      <td>0</td>\n",
              "      <td>0.0</td>\n",
              "      <td>-1.0</td>\n",
              "      <td>1</td>\n",
              "      <td>3228202</td>\n",
              "      <td>728</td>\n",
              "      <td>0.000135</td>\n",
              "      <td>-1.355488e-07</td>\n",
              "      <td>1</td>\n",
              "      <td>3684730</td>\n",
              "      <td>775</td>\n",
              "      <td>0.000135</td>\n",
              "      <td>-1.355488e-07</td>\n",
              "      <td>1</td>\n",
              "      <td>1079503</td>\n",
              "      <td>268</td>\n",
              "      <td>0.000134</td>\n",
              "      <td>-1.355488e-07</td>\n",
              "      <td>1</td>\n",
              "      <td>1</td>\n",
              "      <td>0</td>\n",
              "      <td>0.0</td>\n",
              "      <td>-1</td>\n",
              "      <td>736583</td>\n",
              "      <td>734282</td>\n",
              "      <td>225396.0</td>\n",
              "      <td>24</td>\n",
              "      <td>-1.662841e+12</td>\n",
              "    </tr>\n",
              "    <tr>\n",
              "      <th>3</th>\n",
              "      <td>1</td>\n",
              "      <td>1</td>\n",
              "      <td>0</td>\n",
              "      <td>0.000000</td>\n",
              "      <td>-1.000000</td>\n",
              "      <td>1</td>\n",
              "      <td>1144863</td>\n",
              "      <td>256</td>\n",
              "      <td>0.000134</td>\n",
              "      <td>-4.066463e-07</td>\n",
              "      <td>1</td>\n",
              "      <td>1</td>\n",
              "      <td>0</td>\n",
              "      <td>0.000000</td>\n",
              "      <td>-1.000000</td>\n",
              "      <td>1</td>\n",
              "      <td>2118316</td>\n",
              "      <td>385</td>\n",
              "      <td>0.000134</td>\n",
              "      <td>-4.066463e-07</td>\n",
              "      <td>1</td>\n",
              "      <td>39</td>\n",
              "      <td>0</td>\n",
              "      <td>0.000000</td>\n",
              "      <td>-1.000000e+00</td>\n",
              "      <td>1</td>\n",
              "      <td>308752</td>\n",
              "      <td>38</td>\n",
              "      <td>0.000134</td>\n",
              "      <td>-4.473110e-06</td>\n",
              "      <td>1</td>\n",
              "      <td>3178798</td>\n",
              "      <td>389</td>\n",
              "      <td>0.000134</td>\n",
              "      <td>-1.355488e-07</td>\n",
              "      <td>1</td>\n",
              "      <td>622</td>\n",
              "      <td>1</td>\n",
              "      <td>4.066463e-07</td>\n",
              "      <td>-4.066463e-07</td>\n",
              "      <td>1</td>\n",
              "      <td>2814535</td>\n",
              "      <td>333</td>\n",
              "      <td>0.000135</td>\n",
              "      <td>-4.066463e-07</td>\n",
              "      <td>1</td>\n",
              "      <td>1</td>\n",
              "      <td>0</td>\n",
              "      <td>0.0</td>\n",
              "      <td>-1.0</td>\n",
              "      <td>1</td>\n",
              "      <td>3228202</td>\n",
              "      <td>727</td>\n",
              "      <td>0.000135</td>\n",
              "      <td>-4.066463e-07</td>\n",
              "      <td>1</td>\n",
              "      <td>3684730</td>\n",
              "      <td>774</td>\n",
              "      <td>0.000135</td>\n",
              "      <td>-4.066463e-07</td>\n",
              "      <td>1</td>\n",
              "      <td>1079503</td>\n",
              "      <td>267</td>\n",
              "      <td>0.000134</td>\n",
              "      <td>-4.066463e-07</td>\n",
              "      <td>1</td>\n",
              "      <td>1</td>\n",
              "      <td>0</td>\n",
              "      <td>0.0</td>\n",
              "      <td>-1</td>\n",
              "      <td>736583</td>\n",
              "      <td>734282</td>\n",
              "      <td>255512.0</td>\n",
              "      <td>24</td>\n",
              "      <td>-6.283396e+11</td>\n",
              "    </tr>\n",
              "    <tr>\n",
              "      <th>4</th>\n",
              "      <td>1</td>\n",
              "      <td>427</td>\n",
              "      <td>0</td>\n",
              "      <td>0.000000</td>\n",
              "      <td>-1.000000</td>\n",
              "      <td>1</td>\n",
              "      <td>2621293</td>\n",
              "      <td>348</td>\n",
              "      <td>0.000135</td>\n",
              "      <td>-1.355488e-07</td>\n",
              "      <td>1</td>\n",
              "      <td>412</td>\n",
              "      <td>0</td>\n",
              "      <td>0.000000</td>\n",
              "      <td>-1.000000</td>\n",
              "      <td>1</td>\n",
              "      <td>2961479</td>\n",
              "      <td>379</td>\n",
              "      <td>0.000135</td>\n",
              "      <td>-1.355488e-07</td>\n",
              "      <td>1</td>\n",
              "      <td>33496</td>\n",
              "      <td>3</td>\n",
              "      <td>0.000077</td>\n",
              "      <td>-4.066463e-07</td>\n",
              "      <td>1</td>\n",
              "      <td>1864789</td>\n",
              "      <td>213</td>\n",
              "      <td>0.000134</td>\n",
              "      <td>-1.355488e-07</td>\n",
              "      <td>1</td>\n",
              "      <td>3178798</td>\n",
              "      <td>388</td>\n",
              "      <td>0.000134</td>\n",
              "      <td>-1.355488e-07</td>\n",
              "      <td>1</td>\n",
              "      <td>5511</td>\n",
              "      <td>2</td>\n",
              "      <td>4.066463e-07</td>\n",
              "      <td>-1.355488e-07</td>\n",
              "      <td>1</td>\n",
              "      <td>2551743</td>\n",
              "      <td>376</td>\n",
              "      <td>0.000134</td>\n",
              "      <td>-1.355488e-07</td>\n",
              "      <td>1</td>\n",
              "      <td>412</td>\n",
              "      <td>0</td>\n",
              "      <td>0.0</td>\n",
              "      <td>-1.0</td>\n",
              "      <td>1</td>\n",
              "      <td>72342</td>\n",
              "      <td>7</td>\n",
              "      <td>0.000119</td>\n",
              "      <td>-1.355488e-07</td>\n",
              "      <td>1</td>\n",
              "      <td>167949</td>\n",
              "      <td>10</td>\n",
              "      <td>0.000123</td>\n",
              "      <td>-1.355488e-07</td>\n",
              "      <td>1</td>\n",
              "      <td>1967924</td>\n",
              "      <td>122</td>\n",
              "      <td>0.000134</td>\n",
              "      <td>-1.355488e-07</td>\n",
              "      <td>1</td>\n",
              "      <td>1</td>\n",
              "      <td>0</td>\n",
              "      <td>0.0</td>\n",
              "      <td>-1</td>\n",
              "      <td>736607</td>\n",
              "      <td>734504</td>\n",
              "      <td>187802.0</td>\n",
              "      <td>0</td>\n",
              "      <td>-1.385494e+12</td>\n",
              "    </tr>\n",
              "  </tbody>\n",
              "</table>\n",
              "</div>"
            ],
            "text/plain": [
              "   artist_name_past_count  artist_name_value_count  ...  bd  part_song_listened\n",
              "0                       1                     1140  ...   0       -3.808057e+11\n",
              "1                       1                   303616  ...  24       -2.099495e+12\n",
              "2                       1                      289  ...  24       -1.662841e+12\n",
              "3                       1                        1  ...  24       -6.283396e+11\n",
              "4                       1                      427  ...   0       -1.385494e+12\n",
              "\n",
              "[5 rows x 75 columns]"
            ]
          },
          "metadata": {
            "tags": []
          },
          "execution_count": 76
        }
      ]
    },
    {
      "cell_type": "code",
      "metadata": {
        "id": "Ft-ccHLTYROt",
        "outputId": "cf71473b-7d30-48c9-b115-b6451213683f",
        "colab": {
          "base_uri": "https://localhost:8080/"
        }
      },
      "source": [
        "dev_y[:5]"
      ],
      "execution_count": 77,
      "outputs": [
        {
          "output_type": "execute_result",
          "data": {
            "text/plain": [
              "0    1\n",
              "1    1\n",
              "2    1\n",
              "3    1\n",
              "4    1\n",
              "Name: target, dtype: int64"
            ]
          },
          "metadata": {
            "tags": []
          },
          "execution_count": 77
        }
      ]
    },
    {
      "cell_type": "code",
      "metadata": {
        "id": "_kzOlM8VDUT5",
        "outputId": "da207542-1e21-4ee0-f4ee-c46f48de9ed8",
        "colab": {
          "base_uri": "https://localhost:8080/"
        }
      },
      "source": [
        "len(dev_X.columns)"
      ],
      "execution_count": 78,
      "outputs": [
        {
          "output_type": "execute_result",
          "data": {
            "text/plain": [
              "75"
            ]
          },
          "metadata": {
            "tags": []
          },
          "execution_count": 78
        }
      ]
    },
    {
      "cell_type": "code",
      "metadata": {
        "id": "ErVOOb9njFFt",
        "outputId": "95670c4b-2918-4e92-d816-dada8e0029e9",
        "colab": {
          "base_uri": "https://localhost:8080/"
        }
      },
      "source": [
        "train_shuffled = copy.deepcopy(train)\n",
        "random.shuffle(train_shuffled)\n",
        "X, y = make_features(train_shuffled)\n",
        "len(X), len(y)"
      ],
      "execution_count": 42,
      "outputs": [
        {
          "output_type": "execute_result",
          "data": {
            "text/plain": [
              "(7377418, 7377418)"
            ]
          },
          "metadata": {
            "tags": []
          },
          "execution_count": 42
        }
      ]
    },
    {
      "cell_type": "code",
      "metadata": {
        "id": "bh4b1cnqMjNf"
      },
      "source": [
        "del X\n",
        "del y"
      ],
      "execution_count": 40,
      "outputs": []
    },
    {
      "cell_type": "markdown",
      "metadata": {
        "id": "lsw8RimBAKPi"
      },
      "source": [
        "## Train / test (on 5 kfolds)"
      ]
    },
    {
      "cell_type": "code",
      "metadata": {
        "id": "j5hE4CN-pOPO"
      },
      "source": [
        "metrics = {'Logloss': 0.0, 'AUC': 0.0}\n",
        "kf = KFold(n_splits=5)\n",
        "\n",
        "for fold, (train_idxs, test_idxs) in enumerate(kf.split(X)):\n",
        "    X_train, y_train = X.iloc[train_idxs], y.iloc[train_idxs]\n",
        "    X_test, y_test = X.iloc[test_idxs], y.iloc[test_idxs]\n",
        "\n",
        "    model = catboost.CatBoostClassifier(\n",
        "        iterations=200, \n",
        "        learning_rate=0.03, \n",
        "        depth=7, \n",
        "        loss_function='Logloss',\n",
        "        thread_count=50,\n",
        "        random_seed=1,\n",
        "        task_type=\"GPU\",\n",
        "        devices='0',\n",
        "        verbose=False,\n",
        "    )\n",
        "    model.fit(X_train, y_train)\n",
        "\n",
        "    pool = catboost.Pool(X_test, y_test)\n",
        "    mt = model.eval_metrics(pool, ['Logloss', 'AUC'], thread_count=50)\n",
        "    for k in mt:\n",
        "        metrics[k] += mt[k][-1]\n",
        "    \n",
        "    del X_train\n",
        "    del X_test\n",
        "\n",
        "for k in metrics:\n",
        "    metrics[k] /= 5"
      ],
      "execution_count": null,
      "outputs": []
    },
    {
      "cell_type": "code",
      "metadata": {
        "id": "ZL_qW-quvWSX",
        "outputId": "6666508b-abd2-4c33-e4a6-e439e69d2168",
        "colab": {
          "base_uri": "https://localhost:8080/"
        }
      },
      "source": [
        "metrics"
      ],
      "execution_count": 69,
      "outputs": [
        {
          "output_type": "execute_result",
          "data": {
            "text/plain": [
              "{'AUC': 0.7163594669879348, 'Logloss': 0.6038456790481755}"
            ]
          },
          "metadata": {
            "tags": []
          },
          "execution_count": 69
        }
      ]
    },
    {
      "cell_type": "code",
      "metadata": {
        "id": "_bJ7dXmAnOwj"
      },
      "source": [
        "#!kaggle competitions submit -c kkbox-music-recommendation-challenge -f 'submission.csv' -m '1st_try'"
      ],
      "execution_count": null,
      "outputs": []
    },
    {
      "cell_type": "code",
      "metadata": {
        "id": "3lRpYzohHB0A"
      },
      "source": [
        ""
      ],
      "execution_count": null,
      "outputs": []
    },
    {
      "cell_type": "code",
      "metadata": {
        "id": "K7TyVoR9HB2o"
      },
      "source": [
        ""
      ],
      "execution_count": null,
      "outputs": []
    }
  ]
}